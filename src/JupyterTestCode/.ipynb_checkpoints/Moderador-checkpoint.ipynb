{
 "cells": [
  {
   "cell_type": "code",
   "execution_count": 1,
   "metadata": {},
   "outputs": [],
   "source": [
    "import pprint\n",
    "import pymongo\n",
    "from pymongo import MongoClient\n",
    "from bson.objectid import ObjectId\n",
    "import matplotlib.pyplot as plt; plt.rcdefaults()\n",
    "import numpy as np\n",
    "import pandas as pd\n",
    "import matplotlib.pyplot as plt\n",
    "from sklearn.cluster import KMeans\n",
    "import math\n",
    "import spotipy\n",
    "import spotipy.util as util\n",
    "\n",
    "## SETUP\n",
    "# C:\\MongoDB\\bin\\mongod.exe --dbpath=C:\\MongoDB\\data\\db --directoryperdb\n",
    "pp = pprint.PrettyPrinter()\n",
    "client = MongoClient('localhost', 27017)\n",
    "db = client.server"
   ]
  },
  {
   "cell_type": "code",
   "execution_count": 14,
   "metadata": {},
   "outputs": [],
   "source": [
    "# Get users from db by id\n",
    "user_ids = ['12152580425', '12151527942']\n",
    "users = []\n",
    "for id in user_ids:\n",
    "    users.append(db.users.find_one({'id': user}))"
   ]
  },
  {
   "cell_type": "raw",
   "metadata": {},
   "source": [
    "## SETUP\n",
    "    # Clustering\n",
    "        # number of clusters to recommend\n",
    "        # number of musics to recommend\n",
    "        # min popularity\n",
    "    # ContentBased\n",
    "        # number of genres to recommend\n",
    "        # number of musics to recommend\n",
    "    #\n",
    "## TRAINING\n",
    "    # Clustering\n",
    "    # ContentBased\n",
    "## CANDIDATE GENERATION\n",
    "    # Clustering\n",
    "    # ContentBased\n",
    "    # Maybe add user's libs?\n",
    "    # Mayby find suitable music using spotify's recommender and user's top genres?\n",
    "    # Unify and remove duplicates\n",
    "## SCORING\n",
    "    # Clustering\n",
    "    # ContentBased\n",
    "    # Unify\n",
    "## RECOMMEND!\n",
    "    # Take top x\n",
    "    # Generate playlist\n",
    "## PLAY\n",
    "    # Run playlist"
   ]
  },
  {
   "cell_type": "code",
   "execution_count": null,
   "metadata": {},
   "outputs": [],
   "source": []
  }
 ],
 "metadata": {
  "kernelspec": {
   "display_name": "Python 3",
   "language": "python",
   "name": "python3"
  },
  "language_info": {
   "codemirror_mode": {
    "name": "ipython",
    "version": 3
   },
   "file_extension": ".py",
   "mimetype": "text/x-python",
   "name": "python",
   "nbconvert_exporter": "python",
   "pygments_lexer": "ipython3",
   "version": "3.6.5"
  }
 },
 "nbformat": 4,
 "nbformat_minor": 2
}
