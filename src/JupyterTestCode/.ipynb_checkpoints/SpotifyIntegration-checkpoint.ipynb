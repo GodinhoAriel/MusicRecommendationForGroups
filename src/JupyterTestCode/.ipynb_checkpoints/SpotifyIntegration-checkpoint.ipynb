{
 "cells": [
  {
   "cell_type": "code",
   "execution_count": 3,
   "metadata": {},
   "outputs": [],
   "source": [
    "import sys\n",
    "import pprint\n",
    "import spotipy\n",
    "import spotipy.util as util\n",
    "from urllib.request import urlopen\n",
    "from spotipy.oauth2 import SpotifyClientCredentials\n",
    "from PIL import Image\n",
    "from IPython.core.display import display, HTML\n",
    "from functools import reduce\n",
    "\n",
    "## SETUP\n",
    "pp = pprint.PrettyPrinter()\n",
    "\n",
    "client_credentials_manager = SpotifyClientCredentials(\n",
    "    client_id='9c93bd032a4340b086b31bd30ec8f24c',\n",
    "    client_secret='b893fd0a51d34e2399effa91c1026de7')\n",
    "sp = spotipy.Spotify(client_credentials_manager=client_credentials_manager)\n",
    "\n",
    "## AUX FUNCTIONS\n",
    "def printMusicSimple(track):\n",
    "    print('(' + track['id'] + ') - ' + track['name'] + ' - ' + track['artists'][0]['name'])    \n",
    "    return\n",
    "\n",
    "def printMusicFull(track):\n",
    "    feature_raw = [feature for feature in features_list if feature['id'] == track['id']][0]\n",
    "    feature = dict((key, feature_raw[key]) for key in (\n",
    "        'acousticness',\n",
    "        'danceability',\n",
    "        'energy',\n",
    "        'instrumentalness',\n",
    "        'liveness',\n",
    "        'speechiness',\n",
    "        'valence'))\n",
    "    feature_meta = dict((key, feature_raw[key]) for key in (\n",
    "        'duration_ms',\n",
    "        'id',\n",
    "        'key',\n",
    "        'loudness',\n",
    "        'mode',\n",
    "        'tempo',\n",
    "        'time_signature'))\n",
    "    display(HTML(\"\"\"\n",
    "         <table style='width: 100%;padding: 0px; margin: 0px'>\n",
    "            <tr>\n",
    "                <td style='width: 64px;padding: 0px'>\n",
    "                    <img src='\"\"\"+track['album']['images'][-1]['url']+\"\"\"'>\n",
    "                </td>\n",
    "                <td style='text-align: left;width: 300px'>\n",
    "                    <b>\"\"\"+track['name']+\"\"\"</b>\n",
    "                    <br>\n",
    "                    <font color='grey'>\"\"\"+track['artists'][0]['name']+\"\"\"</font>\n",
    "                </td>\"\"\" +\n",
    "                 ''.join([str(\"\"\"<td style='text-align: left;writing-mode: tb-rl;transform: rotate(-180deg)'>\n",
    "                    <div style=\"height:64px; overflow:hidden\">\n",
    "                        \"\"\")+str(feature_name)+str(\"\"\"\n",
    "                        <br>\n",
    "                        <font color='darkgrey'>\"\"\") + str(feature_meta[feature_name]) + str(\"\"\"</font>                        \n",
    "                    </div>\n",
    "                </td>\"\"\") for feature_name in feature_meta]) + \n",
    "                 ''.join([str(\"\"\"<td style='text-align: left;writing-mode: tb-rl;transform: rotate(-180deg)'>\n",
    "                    <div style=\"height:64px; overflow:hidden\">\n",
    "                        \"\"\")+str(feature_name)+str(\"\"\"\n",
    "                        <br>\n",
    "                        <progress value='\"\"\") + str(feature[feature_name]) + str(\"\"\"' max='1' style='height: 64px;transform: rotate(180deg);'></progress>                        \n",
    "                    </div>\n",
    "                </td>\"\"\") for feature_name in feature]) +\n",
    "\"\"\"            </tr>\n",
    "        </table>\"\"\"))\n",
    "    return"
   ]
  },
  {
   "cell_type": "code",
   "execution_count": 32,
   "metadata": {
    "collapsed": true
   },
   "outputs": [
    {
     "name": "stdout",
     "output_type": "stream",
     "text": [
      "Loading saved tracks...\n"
     ]
    },
    {
     "ename": "SpotifyException",
     "evalue": "http status: 403, code:-1 - https://api.spotify.com/v1/me/tracks?limit=50&offset=0:\n Insufficient client scope",
     "output_type": "error",
     "traceback": [
      "\u001b[1;31m---------------------------------------------------------------------------\u001b[0m",
      "\u001b[1;31mHTTPError\u001b[0m                                 Traceback (most recent call last)",
      "\u001b[1;32mC:\\ProgramData\\Anaconda3\\lib\\site-packages\\spotipy\\client.py\u001b[0m in \u001b[0;36m_internal_call\u001b[1;34m(self, method, url, payload, params)\u001b[0m\n\u001b[0;32m    118\u001b[0m         \u001b[1;32mtry\u001b[0m\u001b[1;33m:\u001b[0m\u001b[1;33m\u001b[0m\u001b[0m\n\u001b[1;32m--> 119\u001b[1;33m             \u001b[0mr\u001b[0m\u001b[1;33m.\u001b[0m\u001b[0mraise_for_status\u001b[0m\u001b[1;33m(\u001b[0m\u001b[1;33m)\u001b[0m\u001b[1;33m\u001b[0m\u001b[0m\n\u001b[0m\u001b[0;32m    120\u001b[0m         \u001b[1;32mexcept\u001b[0m\u001b[1;33m:\u001b[0m\u001b[1;33m\u001b[0m\u001b[0m\n",
      "\u001b[1;32mC:\\ProgramData\\Anaconda3\\lib\\site-packages\\requests\\models.py\u001b[0m in \u001b[0;36mraise_for_status\u001b[1;34m(self)\u001b[0m\n\u001b[0;32m    934\u001b[0m         \u001b[1;32mif\u001b[0m \u001b[0mhttp_error_msg\u001b[0m\u001b[1;33m:\u001b[0m\u001b[1;33m\u001b[0m\u001b[0m\n\u001b[1;32m--> 935\u001b[1;33m             \u001b[1;32mraise\u001b[0m \u001b[0mHTTPError\u001b[0m\u001b[1;33m(\u001b[0m\u001b[0mhttp_error_msg\u001b[0m\u001b[1;33m,\u001b[0m \u001b[0mresponse\u001b[0m\u001b[1;33m=\u001b[0m\u001b[0mself\u001b[0m\u001b[1;33m)\u001b[0m\u001b[1;33m\u001b[0m\u001b[0m\n\u001b[0m\u001b[0;32m    936\u001b[0m \u001b[1;33m\u001b[0m\u001b[0m\n",
      "\u001b[1;31mHTTPError\u001b[0m: 403 Client Error: Forbidden for url: https://api.spotify.com/v1/me/tracks?limit=50&offset=0",
      "\nDuring handling of the above exception, another exception occurred:\n",
      "\u001b[1;31mSpotifyException\u001b[0m                          Traceback (most recent call last)",
      "\u001b[1;32m<ipython-input-32-ba1834aa649a>\u001b[0m in \u001b[0;36m<module>\u001b[1;34m()\u001b[0m\n\u001b[0;32m     16\u001b[0m     \u001b[0muser_tracks\u001b[0m \u001b[1;33m=\u001b[0m \u001b[1;33m[\u001b[0m\u001b[1;33m]\u001b[0m\u001b[1;33m\u001b[0m\u001b[0m\n\u001b[0;32m     17\u001b[0m     \u001b[1;32mfor\u001b[0m \u001b[0moffset\u001b[0m \u001b[1;32min\u001b[0m \u001b[0mrange\u001b[0m\u001b[1;33m(\u001b[0m\u001b[1;36m0\u001b[0m\u001b[1;33m,\u001b[0m \u001b[0mmax_songs\u001b[0m\u001b[1;33m,\u001b[0m \u001b[1;36m50\u001b[0m\u001b[1;33m)\u001b[0m\u001b[1;33m:\u001b[0m\u001b[1;33m\u001b[0m\u001b[0m\n\u001b[1;32m---> 18\u001b[1;33m         \u001b[0mresults\u001b[0m \u001b[1;33m=\u001b[0m \u001b[0msp\u001b[0m\u001b[1;33m.\u001b[0m\u001b[0mcurrent_user_saved_tracks\u001b[0m\u001b[1;33m(\u001b[0m\u001b[1;36m50\u001b[0m\u001b[1;33m,\u001b[0m\u001b[0moffset\u001b[0m\u001b[1;33m)\u001b[0m\u001b[1;33m\u001b[0m\u001b[0m\n\u001b[0m\u001b[0;32m     19\u001b[0m         \u001b[1;32mif\u001b[0m\u001b[1;33m(\u001b[0m\u001b[0moffset\u001b[0m \u001b[1;33m>\u001b[0m \u001b[0mresults\u001b[0m\u001b[1;33m[\u001b[0m\u001b[1;34m'total'\u001b[0m\u001b[1;33m]\u001b[0m\u001b[1;33m)\u001b[0m\u001b[1;33m:\u001b[0m\u001b[1;33m\u001b[0m\u001b[0m\n\u001b[0;32m     20\u001b[0m             \u001b[1;32mbreak\u001b[0m\u001b[1;33m\u001b[0m\u001b[0m\n",
      "\u001b[1;32mC:\\ProgramData\\Anaconda3\\lib\\site-packages\\spotipy\\client.py\u001b[0m in \u001b[0;36mcurrent_user_saved_tracks\u001b[1;34m(self, limit, offset)\u001b[0m\n\u001b[0;32m    594\u001b[0m \u001b[1;33m\u001b[0m\u001b[0m\n\u001b[0;32m    595\u001b[0m         '''\n\u001b[1;32m--> 596\u001b[1;33m         \u001b[1;32mreturn\u001b[0m \u001b[0mself\u001b[0m\u001b[1;33m.\u001b[0m\u001b[0m_get\u001b[0m\u001b[1;33m(\u001b[0m\u001b[1;34m'me/tracks'\u001b[0m\u001b[1;33m,\u001b[0m \u001b[0mlimit\u001b[0m\u001b[1;33m=\u001b[0m\u001b[0mlimit\u001b[0m\u001b[1;33m,\u001b[0m \u001b[0moffset\u001b[0m\u001b[1;33m=\u001b[0m\u001b[0moffset\u001b[0m\u001b[1;33m)\u001b[0m\u001b[1;33m\u001b[0m\u001b[0m\n\u001b[0m\u001b[0;32m    597\u001b[0m \u001b[1;33m\u001b[0m\u001b[0m\n\u001b[0;32m    598\u001b[0m     \u001b[1;32mdef\u001b[0m \u001b[0mcurrent_user_followed_artists\u001b[0m\u001b[1;33m(\u001b[0m\u001b[0mself\u001b[0m\u001b[1;33m,\u001b[0m \u001b[0mlimit\u001b[0m\u001b[1;33m=\u001b[0m\u001b[1;36m20\u001b[0m\u001b[1;33m,\u001b[0m \u001b[0mafter\u001b[0m\u001b[1;33m=\u001b[0m\u001b[1;32mNone\u001b[0m\u001b[1;33m)\u001b[0m\u001b[1;33m:\u001b[0m\u001b[1;33m\u001b[0m\u001b[0m\n",
      "\u001b[1;32mC:\\ProgramData\\Anaconda3\\lib\\site-packages\\spotipy\\client.py\u001b[0m in \u001b[0;36m_get\u001b[1;34m(self, url, args, payload, **kwargs)\u001b[0m\n\u001b[0;32m    144\u001b[0m         \u001b[1;32mwhile\u001b[0m \u001b[0mretries\u001b[0m \u001b[1;33m>\u001b[0m \u001b[1;36m0\u001b[0m\u001b[1;33m:\u001b[0m\u001b[1;33m\u001b[0m\u001b[0m\n\u001b[0;32m    145\u001b[0m             \u001b[1;32mtry\u001b[0m\u001b[1;33m:\u001b[0m\u001b[1;33m\u001b[0m\u001b[0m\n\u001b[1;32m--> 146\u001b[1;33m                 \u001b[1;32mreturn\u001b[0m \u001b[0mself\u001b[0m\u001b[1;33m.\u001b[0m\u001b[0m_internal_call\u001b[0m\u001b[1;33m(\u001b[0m\u001b[1;34m'GET'\u001b[0m\u001b[1;33m,\u001b[0m \u001b[0murl\u001b[0m\u001b[1;33m,\u001b[0m \u001b[0mpayload\u001b[0m\u001b[1;33m,\u001b[0m \u001b[0mkwargs\u001b[0m\u001b[1;33m)\u001b[0m\u001b[1;33m\u001b[0m\u001b[0m\n\u001b[0m\u001b[0;32m    147\u001b[0m             \u001b[1;32mexcept\u001b[0m \u001b[0mSpotifyException\u001b[0m \u001b[1;32mas\u001b[0m \u001b[0me\u001b[0m\u001b[1;33m:\u001b[0m\u001b[1;33m\u001b[0m\u001b[0m\n\u001b[0;32m    148\u001b[0m                 \u001b[0mretries\u001b[0m \u001b[1;33m-=\u001b[0m \u001b[1;36m1\u001b[0m\u001b[1;33m\u001b[0m\u001b[0m\n",
      "\u001b[1;32mC:\\ProgramData\\Anaconda3\\lib\\site-packages\\spotipy\\client.py\u001b[0m in \u001b[0;36m_internal_call\u001b[1;34m(self, method, url, payload, params)\u001b[0m\n\u001b[0;32m    122\u001b[0m                 raise SpotifyException(r.status_code,\n\u001b[0;32m    123\u001b[0m                     \u001b[1;33m-\u001b[0m\u001b[1;36m1\u001b[0m\u001b[1;33m,\u001b[0m \u001b[1;34m'%s:\\n %s'\u001b[0m \u001b[1;33m%\u001b[0m \u001b[1;33m(\u001b[0m\u001b[0mr\u001b[0m\u001b[1;33m.\u001b[0m\u001b[0murl\u001b[0m\u001b[1;33m,\u001b[0m \u001b[0mr\u001b[0m\u001b[1;33m.\u001b[0m\u001b[0mjson\u001b[0m\u001b[1;33m(\u001b[0m\u001b[1;33m)\u001b[0m\u001b[1;33m[\u001b[0m\u001b[1;34m'error'\u001b[0m\u001b[1;33m]\u001b[0m\u001b[1;33m[\u001b[0m\u001b[1;34m'message'\u001b[0m\u001b[1;33m]\u001b[0m\u001b[1;33m)\u001b[0m\u001b[1;33m,\u001b[0m\u001b[1;33m\u001b[0m\u001b[0m\n\u001b[1;32m--> 124\u001b[1;33m                     headers=r.headers)\n\u001b[0m\u001b[0;32m    125\u001b[0m             \u001b[1;32melse\u001b[0m\u001b[1;33m:\u001b[0m\u001b[1;33m\u001b[0m\u001b[0m\n\u001b[0;32m    126\u001b[0m                 raise SpotifyException(r.status_code,\n",
      "\u001b[1;31mSpotifyException\u001b[0m: http status: 403, code:-1 - https://api.spotify.com/v1/me/tracks?limit=50&offset=0:\n Insufficient client scope"
     ]
    }
   ],
   "source": [
    "## CODE\n",
    "username = 'Ariel Godinho'\n",
    "scope = 'user-top-read' #'user-library-read'\n",
    "max_songs = 5000 #00\n",
    "token = util.prompt_for_user_token(\n",
    "    username,\n",
    "    scope,\n",
    "    client_id='9c93bd032a4340b086b31bd30ec8f24c',\n",
    "    client_secret='b893fd0a51d34e2399effa91c1026de7',\n",
    "    redirect_uri='http://localhost:8888/tree')\n",
    "\n",
    "if token:\n",
    "    #Set token to spotify library\n",
    "    sp = spotipy.Spotify(auth=token)\n",
    "    print('Loading saved tracks...')\n",
    "    user_tracks = []\n",
    "    for offset in range(0, max_songs, 50):\n",
    "        results = sp.current_user_saved_tracks(50,offset)\n",
    "        if(offset > results['total']):\n",
    "            break\n",
    "        user_tracks.extend([item['track'] for item in results['items']])\n",
    "        print(len(user_tracks), end='\\r')    \n",
    "    print(len(user_tracks))\n",
    "    \n",
    "    print('Loading tracks features...')\n",
    "    features_list = []\n",
    "    for index in range(0, len(user_tracks), 100):\n",
    "        features_list.extend(sp.audio_features(tracks=[track['id'] for track in user_tracks[index:index+100]]))\n",
    "        print(len(features_list), end='\\r')   \n",
    "    print(len(features_list))\n",
    "    \n",
    "else:\n",
    "    print(\"Can't get token for\", username)"
   ]
  },
  {
   "cell_type": "code",
   "execution_count": null,
   "metadata": {
    "scrolled": true
   },
   "outputs": [],
   "source": [
    "for track in user_tracks[0:10]:\n",
    "    printMusicFull(track)"
   ]
  },
  {
   "cell_type": "code",
   "execution_count": null,
   "metadata": {},
   "outputs": [],
   "source": [
    "for track in user_tracks[0:10]:\n",
    "    printMusicSimple(track)"
   ]
  },
  {
   "cell_type": "code",
   "execution_count": null,
   "metadata": {
    "scrolled": true
   },
   "outputs": [],
   "source": [
    "print([track['id'] for track in user_tracks[0:10]])"
   ]
  },
  {
   "cell_type": "code",
   "execution_count": 39,
   "metadata": {
    "collapsed": true
   },
   "outputs": [
    {
     "name": "stdout",
     "output_type": "stream",
     "text": [
      "['Natiruts',\n",
      " 'The Weeknd',\n",
      " 'Daft Punk',\n",
      " 'Years & Years',\n",
      " 'Jorge & Mateus',\n",
      " 'Drake',\n",
      " 'Darren Korb',\n",
      " 'Cacife Clandestino',\n",
      " 'Maneva',\n",
      " 'Muse',\n",
      " 'Djavan',\n",
      " 'Cidade Negra',\n",
      " 'Disclosure',\n",
      " 'Avicii',\n",
      " 'Eminem',\n",
      " 'Kamelot',\n",
      " 'Calvin Harris',\n",
      " 'Criolo',\n",
      " 'Seu Jorge',\n",
      " 'Red Hot Chili Peppers',\n",
      " 'Os Paralamas Do Sucesso',\n",
      " 'Lulu Santos',\n",
      " 'Galantis',\n",
      " 'Angra',\n",
      " 'Major Lazer',\n",
      " 'Black Sabbath',\n",
      " 'Cássia Eller',\n",
      " 'Bob Marley & The Wailers',\n",
      " 'Projota',\n",
      " 'David Guetta',\n",
      " 'Incubus',\n",
      " 'Symphony X',\n",
      " 'Gorillaz',\n",
      " 'Tiësto',\n",
      " 'Michael Jackson',\n",
      " 'Arctic Monkeys',\n",
      " 'Ed Sheeran',\n",
      " 'Queen',\n",
      " 'Vicetone',\n",
      " 'Maroon 5',\n",
      " 'Nirvana',\n",
      " 'Emicida',\n",
      " 'Audioslave',\n",
      " 'Zedd',\n",
      " 'Justin Timberlake',\n",
      " 'Tove Lo',\n",
      " 'Armin van Buuren',\n",
      " 'Pink Floyd',\n",
      " 'Charlie Brown Jr.',\n",
      " 'Michael Bublé']\n"
     ]
    }
   ],
   "source": [
    "top_artists = sp.current_user_top_artists(50, 0, 'long_term')\n",
    "pp.pprint([artist['name'] for artist in top_artists['items']])"
   ]
  },
  {
   "cell_type": "code",
   "execution_count": 35,
   "metadata": {
    "collapsed": true
   },
   "outputs": [
    {
     "name": "stdout",
     "output_type": "stream",
     "text": [
      "[{'album': {'album_type': 'ALBUM',\n",
      "            'artists': [{'external_urls': {'spotify': 'https://open.spotify.com/artist/7Ln80lUS6He07XvHI8qqHH'},\n",
      "                         'href': 'https://api.spotify.com/v1/artists/7Ln80lUS6He07XvHI8qqHH',\n",
      "                         'id': '7Ln80lUS6He07XvHI8qqHH',\n",
      "                         'name': 'Arctic Monkeys',\n",
      "                         'type': 'artist',\n",
      "                         'uri': 'spotify:artist:7Ln80lUS6He07XvHI8qqHH'}],\n",
      "            'external_urls': {'spotify': 'https://open.spotify.com/album/78bpIziExqiI9qztvNFlQu'},\n",
      "            'href': 'https://api.spotify.com/v1/albums/78bpIziExqiI9qztvNFlQu',\n",
      "            'id': '78bpIziExqiI9qztvNFlQu',\n",
      "            'images': [{'height': 640,\n",
      "                        'url': 'https://i.scdn.co/image/f513ae2d610d9255913795d4bc28ca33c827b232',\n",
      "                        'width': 640},\n",
      "                       {'height': 300,\n",
      "                        'url': 'https://i.scdn.co/image/f1e6688873c2bba1d729288e6b0f6d1137d9777b',\n",
      "                        'width': 300},\n",
      "                       {'height': 64,\n",
      "                        'url': 'https://i.scdn.co/image/a16aa05eb1610d314c63afd580df9e92ce46cc50',\n",
      "                        'width': 64}],\n",
      "            'name': 'AM',\n",
      "            'release_date': '2013-09-09',\n",
      "            'release_date_precision': 'day',\n",
      "            'type': 'album',\n",
      "            'uri': 'spotify:album:78bpIziExqiI9qztvNFlQu'},\n",
      "  'artists': [{'external_urls': {'spotify': 'https://open.spotify.com/artist/7Ln80lUS6He07XvHI8qqHH'},\n",
      "               'href': 'https://api.spotify.com/v1/artists/7Ln80lUS6He07XvHI8qqHH',\n",
      "               'id': '7Ln80lUS6He07XvHI8qqHH',\n",
      "               'name': 'Arctic Monkeys',\n",
      "               'type': 'artist',\n",
      "               'uri': 'spotify:artist:7Ln80lUS6He07XvHI8qqHH'}],\n",
      "  'disc_number': 1,\n",
      "  'duration_ms': 272394,\n",
      "  'explicit': False,\n",
      "  'external_ids': {'isrc': 'GBCEL1300362'},\n",
      "  'external_urls': {'spotify': 'https://open.spotify.com/track/5FVd6KXrgO9B3JPmC8OPst'},\n",
      "  'href': 'https://api.spotify.com/v1/tracks/5FVd6KXrgO9B3JPmC8OPst',\n",
      "  'id': '5FVd6KXrgO9B3JPmC8OPst',\n",
      "  'is_local': False,\n",
      "  'is_playable': True,\n",
      "  'linked_from': {'external_urls': {'spotify': 'https://open.spotify.com/track/2UzMpPKPhbcC8RbsmuURAZ'},\n",
      "                  'href': 'https://api.spotify.com/v1/tracks/2UzMpPKPhbcC8RbsmuURAZ',\n",
      "                  'id': '2UzMpPKPhbcC8RbsmuURAZ',\n",
      "                  'type': 'track',\n",
      "                  'uri': 'spotify:track:2UzMpPKPhbcC8RbsmuURAZ'},\n",
      "  'name': 'Do I Wanna Know?',\n",
      "  'popularity': 83,\n",
      "  'preview_url': 'https://p.scdn.co/mp3-preview/73e00a0a59c897b16d0fe30df43f7aeb2997079d?cid=null',\n",
      "  'track_number': 1,\n",
      "  'type': 'track',\n",
      "  'uri': 'spotify:track:5FVd6KXrgO9B3JPmC8OPst'}]\n"
     ]
    }
   ],
   "source": [
    "top_tracks = sp.current_user_top_tracks(50, 0, 'long_term')\n",
    "pp.pprint([track['name'] for track in top_tracks['items']])"
   ]
  },
  {
   "cell_type": "code",
   "execution_count": null,
   "metadata": {},
   "outputs": [],
   "source": [
    "categories = sp.categories(limit=50, offset=0)\n",
    "pp.pprint([category['name'] for category in categories['categories']['items']])"
   ]
  },
  {
   "cell_type": "code",
   "execution_count": null,
   "metadata": {},
   "outputs": [],
   "source": [
    "related_artists = sp.artist_related_artists('4PhdYoQGH8s1xee81dqQOO')\n",
    "pp.pprint([artist['name'] for artist in related_artists['artists']])"
   ]
  },
  {
   "cell_type": "code",
   "execution_count": null,
   "metadata": {},
   "outputs": [],
   "source": [
    "artist_top_tracks = sp.artist_top_tracks('4PhdYoQGH8s1xee81dqQOO')\n",
    "pp.pprint([track['name'] for track in artist_top_tracks['tracks']])"
   ]
  },
  {
   "cell_type": "code",
   "execution_count": 59,
   "metadata": {
    "collapsed": true
   },
   "outputs": [
    {
     "name": "stdout",
     "output_type": "stream",
     "text": [
      "['acoustic',\n",
      " 'afrobeat',\n",
      " 'alt-rock',\n",
      " 'alternative',\n",
      " 'ambient',\n",
      " 'anime',\n",
      " 'black-metal',\n",
      " 'bluegrass',\n",
      " 'blues',\n",
      " 'bossanova',\n",
      " 'brazil',\n",
      " 'breakbeat',\n",
      " 'british',\n",
      " 'cantopop',\n",
      " 'chicago-house',\n",
      " 'children',\n",
      " 'chill',\n",
      " 'classical',\n",
      " 'club',\n",
      " 'comedy',\n",
      " 'country',\n",
      " 'dance',\n",
      " 'dancehall',\n",
      " 'death-metal',\n",
      " 'deep-house',\n",
      " 'detroit-techno',\n",
      " 'disco',\n",
      " 'disney',\n",
      " 'drum-and-bass',\n",
      " 'dub',\n",
      " 'dubstep',\n",
      " 'edm',\n",
      " 'electro',\n",
      " 'electronic',\n",
      " 'emo',\n",
      " 'folk',\n",
      " 'forro',\n",
      " 'french',\n",
      " 'funk',\n",
      " 'garage',\n",
      " 'german',\n",
      " 'gospel',\n",
      " 'goth',\n",
      " 'grindcore',\n",
      " 'groove',\n",
      " 'grunge',\n",
      " 'guitar',\n",
      " 'happy',\n",
      " 'hard-rock',\n",
      " 'hardcore',\n",
      " 'hardstyle',\n",
      " 'heavy-metal',\n",
      " 'hip-hop',\n",
      " 'holidays',\n",
      " 'honky-tonk',\n",
      " 'house',\n",
      " 'idm',\n",
      " 'indian',\n",
      " 'indie',\n",
      " 'indie-pop',\n",
      " 'industrial',\n",
      " 'iranian',\n",
      " 'j-dance',\n",
      " 'j-idol',\n",
      " 'j-pop',\n",
      " 'j-rock',\n",
      " 'jazz',\n",
      " 'k-pop',\n",
      " 'kids',\n",
      " 'latin',\n",
      " 'latino',\n",
      " 'malay',\n",
      " 'mandopop',\n",
      " 'metal',\n",
      " 'metal-misc',\n",
      " 'metalcore',\n",
      " 'minimal-techno',\n",
      " 'movies',\n",
      " 'mpb',\n",
      " 'new-age',\n",
      " 'new-release',\n",
      " 'opera',\n",
      " 'pagode',\n",
      " 'party',\n",
      " 'philippines-opm',\n",
      " 'piano',\n",
      " 'pop',\n",
      " 'pop-film',\n",
      " 'post-dubstep',\n",
      " 'power-pop',\n",
      " 'progressive-house',\n",
      " 'psych-rock',\n",
      " 'punk',\n",
      " 'punk-rock',\n",
      " 'r-n-b',\n",
      " 'rainy-day',\n",
      " 'reggae',\n",
      " 'reggaeton',\n",
      " 'road-trip',\n",
      " 'rock',\n",
      " 'rock-n-roll',\n",
      " 'rockabilly',\n",
      " 'romance',\n",
      " 'sad',\n",
      " 'salsa',\n",
      " 'samba',\n",
      " 'sertanejo',\n",
      " 'show-tunes',\n",
      " 'singer-songwriter',\n",
      " 'ska',\n",
      " 'sleep',\n",
      " 'songwriter',\n",
      " 'soul',\n",
      " 'soundtracks',\n",
      " 'spanish',\n",
      " 'study',\n",
      " 'summer',\n",
      " 'swedish',\n",
      " 'synth-pop',\n",
      " 'tango',\n",
      " 'techno',\n",
      " 'trance',\n",
      " 'trip-hop',\n",
      " 'turkish',\n",
      " 'work-out',\n",
      " 'world-music']\n"
     ]
    }
   ],
   "source": [
    "genre_seeds = sp.recommendation_genre_seeds()['genres']\n",
    "pp.pprint(genre_seeds)"
   ]
  },
  {
   "cell_type": "code",
   "execution_count": 29,
   "metadata": {
    "collapsed": true
   },
   "outputs": [
    {
     "name": "stdout",
     "output_type": "stream",
     "text": [
      "['Cidade Negra - Johny B. Goode (Johny B. Goode) [Acústico]',\n",
      " 'Natiruts - Dentro da Música II - Ao Vivo',\n",
      " 'Planta E Raiz - Desde as Estrelas - Acústico',\n",
      " 'O Rappa - Reza vela',\n",
      " 'Onze:20 - Pra Falar de Amor',\n",
      " 'Nando Reis - Pra Você Guardei O Amor',\n",
      " 'Engenheiros Do Hawaii - Somos Quem Podemos Ser - Ao Vivo',\n",
      " 'Natiruts - A Sombra da Maldade (feat. Toni Garrido) - Ao Vivo',\n",
      " 'Maneva - Luz Que Me Traz Paz',\n",
      " 'Raimundos - Eu quero ver o oco',\n",
      " 'Nando Reis - Por Onde Andei - Ao Vivo',\n",
      " 'Armandinho - Ainda Gosto de Você',\n",
      " 'Natiruts - Com Certeza (feat. Zeider) - Ao Vivo',\n",
      " 'Os Paralamas Do Sucesso - Uns Dias - Ao Vivo',\n",
      " 'O Rappa - Vapor barato',\n",
      " 'Onze:20 - Deixo Você Ir',\n",
      " 'Natiruts - Pode Crer',\n",
      " 'Maneva - Tô De Pé - Acústico',\n",
      " 'Skank - Vou Deixar',\n",
      " 'Seu Jorge - Zé do Caroço']\n"
     ]
    }
   ],
   "source": [
    "recomendation_list = sp.recommendations(seed_artists=['4PhdYoQGH8s1xee81dqQOO'], limit=20)\n",
    "pp.pprint([track['artists'][0]['name'] + ' - ' + track['name'] for track in recomendation_list['tracks']])"
   ]
  },
  {
   "cell_type": "code",
   "execution_count": 63,
   "metadata": {
    "scrolled": true
   },
   "outputs": [
    {
     "ename": "NameError",
     "evalue": "name 'reduce' is not defined",
     "output_type": "error",
     "traceback": [
      "\u001b[1;31m---------------------------------------------------------------------------\u001b[0m",
      "\u001b[1;31mNameError\u001b[0m                                 Traceback (most recent call last)",
      "\u001b[1;32m<ipython-input-63-dac64e797c61>\u001b[0m in \u001b[0;36m<module>\u001b[1;34m()\u001b[0m\n\u001b[0;32m      1\u001b[0m \u001b[0mtop_artists\u001b[0m \u001b[1;33m=\u001b[0m \u001b[0msp\u001b[0m\u001b[1;33m.\u001b[0m\u001b[0mcurrent_user_top_artists\u001b[0m\u001b[1;33m(\u001b[0m\u001b[1;36m50\u001b[0m\u001b[1;33m,\u001b[0m \u001b[1;36m0\u001b[0m\u001b[1;33m,\u001b[0m \u001b[1;34m'long_term'\u001b[0m\u001b[1;33m)\u001b[0m\u001b[1;33m\u001b[0m\u001b[0m\n\u001b[0;32m      2\u001b[0m \u001b[0mtop_genres\u001b[0m \u001b[1;33m=\u001b[0m \u001b[1;33m[\u001b[0m\u001b[0martist\u001b[0m\u001b[1;33m[\u001b[0m\u001b[1;34m'genres'\u001b[0m\u001b[1;33m]\u001b[0m \u001b[1;32mfor\u001b[0m \u001b[0martist\u001b[0m \u001b[1;32min\u001b[0m \u001b[0mtop_artists\u001b[0m\u001b[1;33m[\u001b[0m\u001b[1;34m'items'\u001b[0m\u001b[1;33m]\u001b[0m\u001b[1;33m]\u001b[0m\u001b[1;33m\u001b[0m\u001b[0m\n\u001b[1;32m----> 3\u001b[1;33m \u001b[0mbleus\u001b[0m \u001b[1;33m=\u001b[0m \u001b[0mreduce\u001b[0m\u001b[1;33m(\u001b[0m\u001b[1;32mlambda\u001b[0m \u001b[0mx\u001b[0m\u001b[1;33m,\u001b[0m \u001b[0my\u001b[0m\u001b[1;33m:\u001b[0m \u001b[0mx\u001b[0m\u001b[1;33m+\u001b[0m\u001b[0my\u001b[0m\u001b[1;33m,\u001b[0m \u001b[0mtop_genres\u001b[0m\u001b[1;33m)\u001b[0m\u001b[1;33m\u001b[0m\u001b[0m\n\u001b[0m\u001b[0;32m      4\u001b[0m \u001b[0mpp\u001b[0m\u001b[1;33m.\u001b[0m\u001b[0mpprint\u001b[0m\u001b[1;33m(\u001b[0m\u001b[0mbleus\u001b[0m\u001b[1;33m)\u001b[0m\u001b[1;33m\u001b[0m\u001b[0m\n",
      "\u001b[1;31mNameError\u001b[0m: name 'reduce' is not defined"
     ]
    }
   ],
   "source": [
    "top_artists = sp.current_user_top_artists(50, 0, 'long_term')\n",
    "top_genres = [artist['genres'] for artist in top_artists['items']]\n",
    "bleus = reduce(lambda x, y: x+y, top_genres)\n",
    "pp.pprint(bleus)"
   ]
  }
 ],
 "metadata": {
  "kernelspec": {
   "display_name": "Python 3",
   "language": "python",
   "name": "python3"
  },
  "language_info": {
   "codemirror_mode": {
    "name": "ipython",
    "version": 3
   },
   "file_extension": ".py",
   "mimetype": "text/x-python",
   "name": "python",
   "nbconvert_exporter": "python",
   "pygments_lexer": "ipython3",
   "version": "3.6.5"
  }
 },
 "nbformat": 4,
 "nbformat_minor": 2
}
